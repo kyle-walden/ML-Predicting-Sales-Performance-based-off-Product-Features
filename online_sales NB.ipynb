{
 "cells": [
  {
   "cell_type": "code",
   "execution_count": 29,
   "metadata": {},
   "outputs": [],
   "source": [
    "import pandas as pd\n",
    "import numpy as np\n",
    "import matplotlib.pyplot as plt"
   ]
  },
  {
   "cell_type": "code",
   "execution_count": 30,
   "metadata": {},
   "outputs": [
    {
     "name": "stdout",
     "output_type": "stream",
     "text": [
      "<class 'pandas.core.frame.DataFrame'>\n",
      "RangeIndex: 2787 entries, 0 to 2786\n",
      "Columns: 558 entries, Outcome_M1 to Cat_514\n",
      "dtypes: datetime64[ns](1), float64(12), int64(532), object(13)\n",
      "memory usage: 11.9+ MB\n"
     ]
    }
   ],
   "source": [
    "import types\n",
    "import pandas as pd\n",
    "from botocore.client import Config\n",
    "import ibm_boto3\n",
    "\n",
    "def __iter__(self): return 0\n",
    "\n",
    "# @hidden_cell\n",
    "# The following code accesses a file in your IBM Cloud Object Storage. It includes your credentials.\n",
    "# You might want to remove those credentials before you share the notebook.\n",
    "body = client_e1abc.get_object(Bucket='predictingsalesperformancebasedof-donotdelete-pr-jfsywoclphtvfz',Key='Kaggle Anonymized Data 3.27.12 v4.xlsx')['Body']\n",
    "# add missing __iter__ method, so pandas accepts body as file-like object\n",
    "if not hasattr(body, \"__iter__\"): body.__iter__ = types.MethodType( __iter__, body )\n",
    "\n",
    "df = pd.read_excel(body)\n",
    "df.head()\n",
    "df.info()"
   ]
  },
  {
   "cell_type": "markdown",
   "metadata": {},
   "source": [
    "## 1. Pre-processing"
   ]
  },
  {
   "cell_type": "markdown",
   "metadata": {},
   "source": [
    "Alter product features and target vairable in scope of the problem statement"
   ]
  },
  {
   "cell_type": "code",
   "execution_count": 31,
   "metadata": {},
   "outputs": [
    {
     "data": {
      "text/html": [
       "<div>\n",
       "<style scoped>\n",
       "    .dataframe tbody tr th:only-of-type {\n",
       "        vertical-align: middle;\n",
       "    }\n",
       "\n",
       "    .dataframe tbody tr th {\n",
       "        vertical-align: top;\n",
       "    }\n",
       "\n",
       "    .dataframe thead th {\n",
       "        text-align: right;\n",
       "    }\n",
       "</style>\n",
       "<table border=\"1\" class=\"dataframe\">\n",
       "  <thead>\n",
       "    <tr style=\"text-align: right;\">\n",
       "      <th></th>\n",
       "      <th>Outcome_M1</th>\n",
       "      <th>Outcome_M2</th>\n",
       "      <th>Outcome_M3</th>\n",
       "      <th>Outcome_M4</th>\n",
       "      <th>Outcome_M5</th>\n",
       "      <th>Outcome_M6</th>\n",
       "      <th>Outcome_M7</th>\n",
       "      <th>Outcome_M8</th>\n",
       "      <th>Outcome_M9</th>\n",
       "      <th>Outcome_M10</th>\n",
       "      <th>Outcome_M11</th>\n",
       "      <th>Outcome_M12</th>\n",
       "    </tr>\n",
       "  </thead>\n",
       "  <tbody>\n",
       "    <tr>\n",
       "      <th>0</th>\n",
       "      <td>885000.0</td>\n",
       "      <td>305000.0</td>\n",
       "      <td>31000.0</td>\n",
       "      <td>31000.0</td>\n",
       "      <td>NaN</td>\n",
       "      <td>NaN</td>\n",
       "      <td>NaN</td>\n",
       "      <td>NaN</td>\n",
       "      <td>NaN</td>\n",
       "      <td>NaN</td>\n",
       "      <td>NaN</td>\n",
       "      <td>NaN</td>\n",
       "    </tr>\n",
       "    <tr>\n",
       "      <th>1</th>\n",
       "      <td>795000.0</td>\n",
       "      <td>315000.0</td>\n",
       "      <td>61000.0</td>\n",
       "      <td>68000.0</td>\n",
       "      <td>35000.0</td>\n",
       "      <td>23000.0</td>\n",
       "      <td>21000.0</td>\n",
       "      <td>18000.0</td>\n",
       "      <td>8000.0</td>\n",
       "      <td>11000.0</td>\n",
       "      <td>5000.0</td>\n",
       "      <td>3000.0</td>\n",
       "    </tr>\n",
       "    <tr>\n",
       "      <th>2</th>\n",
       "      <td>677000.0</td>\n",
       "      <td>263000.0</td>\n",
       "      <td>53000.0</td>\n",
       "      <td>50000.0</td>\n",
       "      <td>37000.0</td>\n",
       "      <td>16000.0</td>\n",
       "      <td>13000.0</td>\n",
       "      <td>19000.0</td>\n",
       "      <td>21000.0</td>\n",
       "      <td>16000.0</td>\n",
       "      <td>13000.0</td>\n",
       "      <td>6000.0</td>\n",
       "    </tr>\n",
       "    <tr>\n",
       "      <th>3</th>\n",
       "      <td>534000.0</td>\n",
       "      <td>210000.0</td>\n",
       "      <td>27000.0</td>\n",
       "      <td>29000.0</td>\n",
       "      <td>NaN</td>\n",
       "      <td>NaN</td>\n",
       "      <td>NaN</td>\n",
       "      <td>NaN</td>\n",
       "      <td>NaN</td>\n",
       "      <td>NaN</td>\n",
       "      <td>NaN</td>\n",
       "      <td>NaN</td>\n",
       "    </tr>\n",
       "    <tr>\n",
       "      <th>4</th>\n",
       "      <td>532000.0</td>\n",
       "      <td>69000.0</td>\n",
       "      <td>63000.0</td>\n",
       "      <td>119000.0</td>\n",
       "      <td>21000.0</td>\n",
       "      <td>16000.0</td>\n",
       "      <td>15000.0</td>\n",
       "      <td>8000.0</td>\n",
       "      <td>6000.0</td>\n",
       "      <td>8000.0</td>\n",
       "      <td>6000.0</td>\n",
       "      <td>6000.0</td>\n",
       "    </tr>\n",
       "  </tbody>\n",
       "</table>\n",
       "</div>"
      ],
      "text/plain": [
       "   Outcome_M1  Outcome_M2  Outcome_M3  Outcome_M4  Outcome_M5  Outcome_M6  \\\n",
       "0    885000.0    305000.0     31000.0     31000.0         NaN         NaN   \n",
       "1    795000.0    315000.0     61000.0     68000.0     35000.0     23000.0   \n",
       "2    677000.0    263000.0     53000.0     50000.0     37000.0     16000.0   \n",
       "3    534000.0    210000.0     27000.0     29000.0         NaN         NaN   \n",
       "4    532000.0     69000.0     63000.0    119000.0     21000.0     16000.0   \n",
       "\n",
       "   Outcome_M7  Outcome_M8  Outcome_M9  Outcome_M10  Outcome_M11  Outcome_M12  \n",
       "0         NaN         NaN         NaN          NaN          NaN          NaN  \n",
       "1     21000.0     18000.0      8000.0      11000.0       5000.0       3000.0  \n",
       "2     13000.0     19000.0     21000.0      16000.0      13000.0       6000.0  \n",
       "3         NaN         NaN         NaN          NaN          NaN          NaN  \n",
       "4     15000.0      8000.0      6000.0       8000.0       6000.0       6000.0  "
      ]
     },
     "execution_count": 31,
     "metadata": {},
     "output_type": "execute_result"
    }
   ],
   "source": [
    "fix = df.iloc[:,0:12].replace(0, np.nan)\n",
    "fix.head()"
   ]
  },
  {
   "cell_type": "code",
   "execution_count": 32,
   "metadata": {},
   "outputs": [
    {
     "data": {
      "text/html": [
       "<div>\n",
       "<style scoped>\n",
       "    .dataframe tbody tr th:only-of-type {\n",
       "        vertical-align: middle;\n",
       "    }\n",
       "\n",
       "    .dataframe tbody tr th {\n",
       "        vertical-align: top;\n",
       "    }\n",
       "\n",
       "    .dataframe thead th {\n",
       "        text-align: right;\n",
       "    }\n",
       "</style>\n",
       "<table border=\"1\" class=\"dataframe\">\n",
       "  <thead>\n",
       "    <tr style=\"text-align: right;\">\n",
       "      <th></th>\n",
       "      <th>Outcome_M1</th>\n",
       "      <th>Outcome_M2</th>\n",
       "      <th>Outcome_M3</th>\n",
       "      <th>Outcome_M4</th>\n",
       "      <th>Outcome_M5</th>\n",
       "      <th>Outcome_M6</th>\n",
       "      <th>Outcome_M7</th>\n",
       "      <th>Outcome_M8</th>\n",
       "      <th>Outcome_M9</th>\n",
       "      <th>Outcome_M10</th>\n",
       "      <th>Outcome_M11</th>\n",
       "      <th>Outcome_M12</th>\n",
       "      <th>Total Period Sales</th>\n",
       "      <th>Active Sales Months</th>\n",
       "    </tr>\n",
       "  </thead>\n",
       "  <tbody>\n",
       "    <tr>\n",
       "      <th>0</th>\n",
       "      <td>885000.0</td>\n",
       "      <td>305000.0</td>\n",
       "      <td>31000.0</td>\n",
       "      <td>31000.0</td>\n",
       "      <td>NaN</td>\n",
       "      <td>NaN</td>\n",
       "      <td>NaN</td>\n",
       "      <td>NaN</td>\n",
       "      <td>NaN</td>\n",
       "      <td>NaN</td>\n",
       "      <td>NaN</td>\n",
       "      <td>NaN</td>\n",
       "      <td>1252000.0</td>\n",
       "      <td>4</td>\n",
       "    </tr>\n",
       "    <tr>\n",
       "      <th>1</th>\n",
       "      <td>795000.0</td>\n",
       "      <td>315000.0</td>\n",
       "      <td>61000.0</td>\n",
       "      <td>68000.0</td>\n",
       "      <td>35000.0</td>\n",
       "      <td>23000.0</td>\n",
       "      <td>21000.0</td>\n",
       "      <td>18000.0</td>\n",
       "      <td>8000.0</td>\n",
       "      <td>11000.0</td>\n",
       "      <td>5000.0</td>\n",
       "      <td>3000.0</td>\n",
       "      <td>1363000.0</td>\n",
       "      <td>12</td>\n",
       "    </tr>\n",
       "    <tr>\n",
       "      <th>2</th>\n",
       "      <td>677000.0</td>\n",
       "      <td>263000.0</td>\n",
       "      <td>53000.0</td>\n",
       "      <td>50000.0</td>\n",
       "      <td>37000.0</td>\n",
       "      <td>16000.0</td>\n",
       "      <td>13000.0</td>\n",
       "      <td>19000.0</td>\n",
       "      <td>21000.0</td>\n",
       "      <td>16000.0</td>\n",
       "      <td>13000.0</td>\n",
       "      <td>6000.0</td>\n",
       "      <td>1184000.0</td>\n",
       "      <td>12</td>\n",
       "    </tr>\n",
       "    <tr>\n",
       "      <th>3</th>\n",
       "      <td>534000.0</td>\n",
       "      <td>210000.0</td>\n",
       "      <td>27000.0</td>\n",
       "      <td>29000.0</td>\n",
       "      <td>NaN</td>\n",
       "      <td>NaN</td>\n",
       "      <td>NaN</td>\n",
       "      <td>NaN</td>\n",
       "      <td>NaN</td>\n",
       "      <td>NaN</td>\n",
       "      <td>NaN</td>\n",
       "      <td>NaN</td>\n",
       "      <td>800000.0</td>\n",
       "      <td>4</td>\n",
       "    </tr>\n",
       "    <tr>\n",
       "      <th>4</th>\n",
       "      <td>532000.0</td>\n",
       "      <td>69000.0</td>\n",
       "      <td>63000.0</td>\n",
       "      <td>119000.0</td>\n",
       "      <td>21000.0</td>\n",
       "      <td>16000.0</td>\n",
       "      <td>15000.0</td>\n",
       "      <td>8000.0</td>\n",
       "      <td>6000.0</td>\n",
       "      <td>8000.0</td>\n",
       "      <td>6000.0</td>\n",
       "      <td>6000.0</td>\n",
       "      <td>869000.0</td>\n",
       "      <td>12</td>\n",
       "    </tr>\n",
       "  </tbody>\n",
       "</table>\n",
       "</div>"
      ],
      "text/plain": [
       "   Outcome_M1  Outcome_M2  Outcome_M3  Outcome_M4  Outcome_M5  Outcome_M6  \\\n",
       "0    885000.0    305000.0     31000.0     31000.0         NaN         NaN   \n",
       "1    795000.0    315000.0     61000.0     68000.0     35000.0     23000.0   \n",
       "2    677000.0    263000.0     53000.0     50000.0     37000.0     16000.0   \n",
       "3    534000.0    210000.0     27000.0     29000.0         NaN         NaN   \n",
       "4    532000.0     69000.0     63000.0    119000.0     21000.0     16000.0   \n",
       "\n",
       "   Outcome_M7  Outcome_M8  Outcome_M9  Outcome_M10  Outcome_M11  Outcome_M12  \\\n",
       "0         NaN         NaN         NaN          NaN          NaN          NaN   \n",
       "1     21000.0     18000.0      8000.0      11000.0       5000.0       3000.0   \n",
       "2     13000.0     19000.0     21000.0      16000.0      13000.0       6000.0   \n",
       "3         NaN         NaN         NaN          NaN          NaN          NaN   \n",
       "4     15000.0      8000.0      6000.0       8000.0       6000.0       6000.0   \n",
       "\n",
       "   Total Period Sales  Active Sales Months  \n",
       "0           1252000.0                    4  \n",
       "1           1363000.0                   12  \n",
       "2           1184000.0                   12  \n",
       "3            800000.0                    4  \n",
       "4            869000.0                   12  "
      ]
     },
     "execution_count": 32,
     "metadata": {},
     "output_type": "execute_result"
    }
   ],
   "source": [
    "fix['Total Period Sales'] = fix.iloc[:,0:12].sum(axis='columns')\n",
    "fix['Active Sales Months'] = fix.iloc[:,0:12].count(axis='columns')\n",
    "fix.head()"
   ]
  },
  {
   "cell_type": "code",
   "execution_count": 33,
   "metadata": {},
   "outputs": [
    {
     "data": {
      "text/html": [
       "<div>\n",
       "<style scoped>\n",
       "    .dataframe tbody tr th:only-of-type {\n",
       "        vertical-align: middle;\n",
       "    }\n",
       "\n",
       "    .dataframe tbody tr th {\n",
       "        vertical-align: top;\n",
       "    }\n",
       "\n",
       "    .dataframe thead th {\n",
       "        text-align: right;\n",
       "    }\n",
       "</style>\n",
       "<table border=\"1\" class=\"dataframe\">\n",
       "  <thead>\n",
       "    <tr style=\"text-align: right;\">\n",
       "      <th></th>\n",
       "      <th>Total Period Sales</th>\n",
       "      <th>Active Sales Months</th>\n",
       "    </tr>\n",
       "  </thead>\n",
       "  <tbody>\n",
       "    <tr>\n",
       "      <th>0</th>\n",
       "      <td>1252000.0</td>\n",
       "      <td>4</td>\n",
       "    </tr>\n",
       "    <tr>\n",
       "      <th>1</th>\n",
       "      <td>1363000.0</td>\n",
       "      <td>12</td>\n",
       "    </tr>\n",
       "    <tr>\n",
       "      <th>2</th>\n",
       "      <td>1184000.0</td>\n",
       "      <td>12</td>\n",
       "    </tr>\n",
       "    <tr>\n",
       "      <th>3</th>\n",
       "      <td>800000.0</td>\n",
       "      <td>4</td>\n",
       "    </tr>\n",
       "    <tr>\n",
       "      <th>4</th>\n",
       "      <td>869000.0</td>\n",
       "      <td>12</td>\n",
       "    </tr>\n",
       "  </tbody>\n",
       "</table>\n",
       "</div>"
      ],
      "text/plain": [
       "   Total Period Sales  Active Sales Months\n",
       "0           1252000.0                    4\n",
       "1           1363000.0                   12\n",
       "2           1184000.0                   12\n",
       "3            800000.0                    4\n",
       "4            869000.0                   12"
      ]
     },
     "execution_count": 33,
     "metadata": {},
     "output_type": "execute_result"
    }
   ],
   "source": [
    "fix = fix.drop(columns = fix.iloc[:,0:12])\n",
    "fix.head()"
   ]
  },
  {
   "cell_type": "code",
   "execution_count": 34,
   "metadata": {},
   "outputs": [],
   "source": [
    "df = df.drop(columns = df.iloc[:,0:12])\n",
    "df = fix.join(df)\n",
    "df.columns = [x.strip() for x in df.columns] #remove spaces in column names"
   ]
  },
  {
   "cell_type": "code",
   "execution_count": 35,
   "metadata": {},
   "outputs": [
    {
     "data": {
      "text/html": [
       "<div>\n",
       "<style scoped>\n",
       "    .dataframe tbody tr th:only-of-type {\n",
       "        vertical-align: middle;\n",
       "    }\n",
       "\n",
       "    .dataframe tbody tr th {\n",
       "        vertical-align: top;\n",
       "    }\n",
       "\n",
       "    .dataframe thead th {\n",
       "        text-align: right;\n",
       "    }\n",
       "</style>\n",
       "<table border=\"1\" class=\"dataframe\">\n",
       "  <thead>\n",
       "    <tr style=\"text-align: right;\">\n",
       "      <th></th>\n",
       "      <th>Total Period Sales</th>\n",
       "      <th>Active Sales Months</th>\n",
       "      <th>Cat_1</th>\n",
       "      <th>Quan_0</th>\n",
       "      <th>Quan_1</th>\n",
       "      <th>Quan_2</th>\n",
       "      <th>Quan_3</th>\n",
       "      <th>Quan_4</th>\n",
       "      <th>Date_4</th>\n",
       "      <th>Quan_5</th>\n",
       "      <th>...</th>\n",
       "      <th>Cat_505</th>\n",
       "      <th>Cat_506</th>\n",
       "      <th>Cat_507</th>\n",
       "      <th>Cat_508</th>\n",
       "      <th>Cat_509</th>\n",
       "      <th>Cat_510</th>\n",
       "      <th>Cat_511</th>\n",
       "      <th>Cat_512</th>\n",
       "      <th>Cat_513</th>\n",
       "      <th>Cat_514</th>\n",
       "    </tr>\n",
       "  </thead>\n",
       "  <tbody>\n",
       "    <tr>\n",
       "      <th>0</th>\n",
       "      <td>1252000.0</td>\n",
       "      <td>4</td>\n",
       "      <td>1</td>\n",
       "      <td>3598</td>\n",
       "      <td>30595010</td>\n",
       "      <td>88.0</td>\n",
       "      <td>100.0</td>\n",
       "      <td>4.692569e+06</td>\n",
       "      <td>2010-03-02</td>\n",
       "      <td>172</td>\n",
       "      <td>...</td>\n",
       "      <td>0</td>\n",
       "      <td>0</td>\n",
       "      <td>0</td>\n",
       "      <td>1</td>\n",
       "      <td>0</td>\n",
       "      <td>0</td>\n",
       "      <td>0</td>\n",
       "      <td>0</td>\n",
       "      <td>0</td>\n",
       "      <td>1</td>\n",
       "    </tr>\n",
       "    <tr>\n",
       "      <th>1</th>\n",
       "      <td>1363000.0</td>\n",
       "      <td>12</td>\n",
       "      <td>1</td>\n",
       "      <td>3234</td>\n",
       "      <td>23512290</td>\n",
       "      <td>86.0</td>\n",
       "      <td>137.0</td>\n",
       "      <td>4.365238e+06</td>\n",
       "      <td>2009-05-13</td>\n",
       "      <td>204</td>\n",
       "      <td>...</td>\n",
       "      <td>0</td>\n",
       "      <td>0</td>\n",
       "      <td>0</td>\n",
       "      <td>1</td>\n",
       "      <td>0</td>\n",
       "      <td>1</td>\n",
       "      <td>0</td>\n",
       "      <td>0</td>\n",
       "      <td>0</td>\n",
       "      <td>1</td>\n",
       "    </tr>\n",
       "    <tr>\n",
       "      <th>2</th>\n",
       "      <td>1184000.0</td>\n",
       "      <td>12</td>\n",
       "      <td>1</td>\n",
       "      <td>2870</td>\n",
       "      <td>17295690</td>\n",
       "      <td>92.0</td>\n",
       "      <td>162.0</td>\n",
       "      <td>3.220430e+06</td>\n",
       "      <td>2008-09-16</td>\n",
       "      <td>MISSING</td>\n",
       "      <td>...</td>\n",
       "      <td>0</td>\n",
       "      <td>0</td>\n",
       "      <td>0</td>\n",
       "      <td>1</td>\n",
       "      <td>0</td>\n",
       "      <td>1</td>\n",
       "      <td>0</td>\n",
       "      <td>1</td>\n",
       "      <td>0</td>\n",
       "      <td>1</td>\n",
       "    </tr>\n",
       "    <tr>\n",
       "      <th>3</th>\n",
       "      <td>800000.0</td>\n",
       "      <td>4</td>\n",
       "      <td>2</td>\n",
       "      <td>3598</td>\n",
       "      <td>18954681</td>\n",
       "      <td>87.0</td>\n",
       "      <td>44.0</td>\n",
       "      <td>4.692569e+06</td>\n",
       "      <td>2010-03-02</td>\n",
       "      <td>143</td>\n",
       "      <td>...</td>\n",
       "      <td>0</td>\n",
       "      <td>0</td>\n",
       "      <td>0</td>\n",
       "      <td>1</td>\n",
       "      <td>0</td>\n",
       "      <td>0</td>\n",
       "      <td>0</td>\n",
       "      <td>0</td>\n",
       "      <td>0</td>\n",
       "      <td>1</td>\n",
       "    </tr>\n",
       "    <tr>\n",
       "      <th>4</th>\n",
       "      <td>869000.0</td>\n",
       "      <td>12</td>\n",
       "      <td>1</td>\n",
       "      <td>2093</td>\n",
       "      <td>6696225</td>\n",
       "      <td>93.0</td>\n",
       "      <td>141.0</td>\n",
       "      <td>1.297454e+06</td>\n",
       "      <td>2005-03-08</td>\n",
       "      <td>MISSING</td>\n",
       "      <td>...</td>\n",
       "      <td>0</td>\n",
       "      <td>0</td>\n",
       "      <td>0</td>\n",
       "      <td>1</td>\n",
       "      <td>0</td>\n",
       "      <td>1</td>\n",
       "      <td>2</td>\n",
       "      <td>0</td>\n",
       "      <td>0</td>\n",
       "      <td>1</td>\n",
       "    </tr>\n",
       "  </tbody>\n",
       "</table>\n",
       "<p>5 rows × 548 columns</p>\n",
       "</div>"
      ],
      "text/plain": [
       "   Total Period Sales  Active Sales Months  Cat_1  Quan_0    Quan_1  Quan_2  \\\n",
       "0           1252000.0                    4      1    3598  30595010    88.0   \n",
       "1           1363000.0                   12      1    3234  23512290    86.0   \n",
       "2           1184000.0                   12      1    2870  17295690    92.0   \n",
       "3            800000.0                    4      2    3598  18954681    87.0   \n",
       "4            869000.0                   12      1    2093   6696225    93.0   \n",
       "\n",
       "   Quan_3        Quan_4     Date_4   Quan_5  ... Cat_505 Cat_506 Cat_507  \\\n",
       "0   100.0  4.692569e+06 2010-03-02      172  ...       0       0       0   \n",
       "1   137.0  4.365238e+06 2009-05-13      204  ...       0       0       0   \n",
       "2   162.0  3.220430e+06 2008-09-16  MISSING  ...       0       0       0   \n",
       "3    44.0  4.692569e+06 2010-03-02      143  ...       0       0       0   \n",
       "4   141.0  1.297454e+06 2005-03-08  MISSING  ...       0       0       0   \n",
       "\n",
       "  Cat_508 Cat_509 Cat_510 Cat_511 Cat_512 Cat_513  Cat_514  \n",
       "0       1       0       0       0       0       0        1  \n",
       "1       1       0       1       0       0       0        1  \n",
       "2       1       0       1       0       1       0        1  \n",
       "3       1       0       0       0       0       0        1  \n",
       "4       1       0       1       2       0       0        1  \n",
       "\n",
       "[5 rows x 548 columns]"
      ]
     },
     "execution_count": 35,
     "metadata": {},
     "output_type": "execute_result"
    }
   ],
   "source": [
    "df.head()"
   ]
  },
  {
   "cell_type": "code",
   "execution_count": 36,
   "metadata": {},
   "outputs": [],
   "source": [
    "df['Launch Month'] = df['Date_4'].dt.month #extract the launch month of the product\n",
    "df = df.drop(columns = ['Date_4']) #unidentified date column according to data source, we will remove this"
   ]
  },
  {
   "cell_type": "code",
   "execution_count": 37,
   "metadata": {},
   "outputs": [
    {
     "data": {
      "text/html": [
       "<div>\n",
       "<style scoped>\n",
       "    .dataframe tbody tr th:only-of-type {\n",
       "        vertical-align: middle;\n",
       "    }\n",
       "\n",
       "    .dataframe tbody tr th {\n",
       "        vertical-align: top;\n",
       "    }\n",
       "\n",
       "    .dataframe thead th {\n",
       "        text-align: right;\n",
       "    }\n",
       "</style>\n",
       "<table border=\"1\" class=\"dataframe\">\n",
       "  <thead>\n",
       "    <tr style=\"text-align: right;\">\n",
       "      <th></th>\n",
       "      <th>Total Period Sales</th>\n",
       "      <th>Active Sales Months</th>\n",
       "      <th>Cat_1</th>\n",
       "      <th>Quan_0</th>\n",
       "      <th>Quan_1</th>\n",
       "      <th>Quan_2</th>\n",
       "      <th>Quan_3</th>\n",
       "      <th>Quan_4</th>\n",
       "      <th>Quan_5</th>\n",
       "      <th>Quan_6</th>\n",
       "      <th>...</th>\n",
       "      <th>Cat_506</th>\n",
       "      <th>Cat_507</th>\n",
       "      <th>Cat_508</th>\n",
       "      <th>Cat_509</th>\n",
       "      <th>Cat_510</th>\n",
       "      <th>Cat_511</th>\n",
       "      <th>Cat_512</th>\n",
       "      <th>Cat_513</th>\n",
       "      <th>Cat_514</th>\n",
       "      <th>Launch Month</th>\n",
       "    </tr>\n",
       "  </thead>\n",
       "  <tbody>\n",
       "    <tr>\n",
       "      <th>0</th>\n",
       "      <td>1252000.0</td>\n",
       "      <td>4</td>\n",
       "      <td>1</td>\n",
       "      <td>3598</td>\n",
       "      <td>30595010</td>\n",
       "      <td>88.0</td>\n",
       "      <td>100.0</td>\n",
       "      <td>4.692569e+06</td>\n",
       "      <td>172</td>\n",
       "      <td>80</td>\n",
       "      <td>...</td>\n",
       "      <td>0</td>\n",
       "      <td>0</td>\n",
       "      <td>1</td>\n",
       "      <td>0</td>\n",
       "      <td>0</td>\n",
       "      <td>0</td>\n",
       "      <td>0</td>\n",
       "      <td>0</td>\n",
       "      <td>1</td>\n",
       "      <td>3.0</td>\n",
       "    </tr>\n",
       "    <tr>\n",
       "      <th>1</th>\n",
       "      <td>1363000.0</td>\n",
       "      <td>12</td>\n",
       "      <td>1</td>\n",
       "      <td>3234</td>\n",
       "      <td>23512290</td>\n",
       "      <td>86.0</td>\n",
       "      <td>137.0</td>\n",
       "      <td>4.365238e+06</td>\n",
       "      <td>204</td>\n",
       "      <td>73</td>\n",
       "      <td>...</td>\n",
       "      <td>0</td>\n",
       "      <td>0</td>\n",
       "      <td>1</td>\n",
       "      <td>0</td>\n",
       "      <td>1</td>\n",
       "      <td>0</td>\n",
       "      <td>0</td>\n",
       "      <td>0</td>\n",
       "      <td>1</td>\n",
       "      <td>5.0</td>\n",
       "    </tr>\n",
       "    <tr>\n",
       "      <th>2</th>\n",
       "      <td>1184000.0</td>\n",
       "      <td>12</td>\n",
       "      <td>1</td>\n",
       "      <td>2870</td>\n",
       "      <td>17295690</td>\n",
       "      <td>92.0</td>\n",
       "      <td>162.0</td>\n",
       "      <td>3.220430e+06</td>\n",
       "      <td>MISSING</td>\n",
       "      <td>MISSING</td>\n",
       "      <td>...</td>\n",
       "      <td>0</td>\n",
       "      <td>0</td>\n",
       "      <td>1</td>\n",
       "      <td>0</td>\n",
       "      <td>1</td>\n",
       "      <td>0</td>\n",
       "      <td>1</td>\n",
       "      <td>0</td>\n",
       "      <td>1</td>\n",
       "      <td>9.0</td>\n",
       "    </tr>\n",
       "    <tr>\n",
       "      <th>3</th>\n",
       "      <td>800000.0</td>\n",
       "      <td>4</td>\n",
       "      <td>2</td>\n",
       "      <td>3598</td>\n",
       "      <td>18954681</td>\n",
       "      <td>87.0</td>\n",
       "      <td>44.0</td>\n",
       "      <td>4.692569e+06</td>\n",
       "      <td>143</td>\n",
       "      <td>68</td>\n",
       "      <td>...</td>\n",
       "      <td>0</td>\n",
       "      <td>0</td>\n",
       "      <td>1</td>\n",
       "      <td>0</td>\n",
       "      <td>0</td>\n",
       "      <td>0</td>\n",
       "      <td>0</td>\n",
       "      <td>0</td>\n",
       "      <td>1</td>\n",
       "      <td>3.0</td>\n",
       "    </tr>\n",
       "    <tr>\n",
       "      <th>4</th>\n",
       "      <td>869000.0</td>\n",
       "      <td>12</td>\n",
       "      <td>1</td>\n",
       "      <td>2093</td>\n",
       "      <td>6696225</td>\n",
       "      <td>93.0</td>\n",
       "      <td>141.0</td>\n",
       "      <td>1.297454e+06</td>\n",
       "      <td>MISSING</td>\n",
       "      <td>MISSING</td>\n",
       "      <td>...</td>\n",
       "      <td>0</td>\n",
       "      <td>0</td>\n",
       "      <td>1</td>\n",
       "      <td>0</td>\n",
       "      <td>1</td>\n",
       "      <td>2</td>\n",
       "      <td>0</td>\n",
       "      <td>0</td>\n",
       "      <td>1</td>\n",
       "      <td>3.0</td>\n",
       "    </tr>\n",
       "  </tbody>\n",
       "</table>\n",
       "<p>5 rows × 548 columns</p>\n",
       "</div>"
      ],
      "text/plain": [
       "   Total Period Sales  Active Sales Months  Cat_1  Quan_0    Quan_1  Quan_2  \\\n",
       "0           1252000.0                    4      1    3598  30595010    88.0   \n",
       "1           1363000.0                   12      1    3234  23512290    86.0   \n",
       "2           1184000.0                   12      1    2870  17295690    92.0   \n",
       "3            800000.0                    4      2    3598  18954681    87.0   \n",
       "4            869000.0                   12      1    2093   6696225    93.0   \n",
       "\n",
       "   Quan_3        Quan_4   Quan_5   Quan_6  ... Cat_506 Cat_507 Cat_508  \\\n",
       "0   100.0  4.692569e+06      172       80  ...       0       0       1   \n",
       "1   137.0  4.365238e+06      204       73  ...       0       0       1   \n",
       "2   162.0  3.220430e+06  MISSING  MISSING  ...       0       0       1   \n",
       "3    44.0  4.692569e+06      143       68  ...       0       0       1   \n",
       "4   141.0  1.297454e+06  MISSING  MISSING  ...       0       0       1   \n",
       "\n",
       "  Cat_509 Cat_510 Cat_511 Cat_512 Cat_513  Cat_514  Launch Month  \n",
       "0       0       0       0       0       0        1           3.0  \n",
       "1       0       1       0       0       0        1           5.0  \n",
       "2       0       1       0       1       0        1           9.0  \n",
       "3       0       0       0       0       0        1           3.0  \n",
       "4       0       1       2       0       0        1           3.0  \n",
       "\n",
       "[5 rows x 548 columns]"
      ]
     },
     "execution_count": 37,
     "metadata": {},
     "output_type": "execute_result"
    }
   ],
   "source": [
    "df.head()"
   ]
  },
  {
   "cell_type": "markdown",
   "metadata": {},
   "source": [
    "Nan and Missing Columns"
   ]
  },
  {
   "cell_type": "code",
   "execution_count": 38,
   "metadata": {},
   "outputs": [],
   "source": [
    "nan_columns = list(df.columns[df.isnull().any()])\n",
    "missing_columns = list(df.columns[df.isin(['MISSING']).any()])\n",
    "rouge_columns = nan_columns + missing_columns\n",
    "df[rouge_columns] = df[rouge_columns].replace('MISSING', np.nan) #replace NaN values with the median of the column\n",
    "df[rouge_columns] = df[rouge_columns].replace(np.nan, df.median(axis=0)) #replace NaN values with the median of the column"
   ]
  },
  {
   "cell_type": "markdown",
   "metadata": {},
   "source": [
    "Identify True Binary Features"
   ]
  },
  {
   "cell_type": "code",
   "execution_count": 39,
   "metadata": {},
   "outputs": [
    {
     "data": {
      "text/plain": [
       "['Cat_491',\n",
       " 'Cat_492',\n",
       " 'Cat_494',\n",
       " 'Cat_498',\n",
       " 'Quan_26',\n",
       " 'Cat_503',\n",
       " 'Cat_504',\n",
       " 'Quan_30',\n",
       " 'Cat_505',\n",
       " 'Cat_506',\n",
       " 'Cat_507',\n",
       " 'Cat_508',\n",
       " 'Cat_510',\n",
       " 'Cat_512',\n",
       " 'Cat_514']"
      ]
     },
     "execution_count": 39,
     "metadata": {},
     "output_type": "execute_result"
    }
   ],
   "source": [
    "[col for col in df if np.isin(df[col].unique(), [0, 1]).all()][-15:] #list of last 15 columns with binary measure"
   ]
  },
  {
   "cell_type": "code",
   "execution_count": 40,
   "metadata": {},
   "outputs": [],
   "source": [
    "X = df.iloc[:,1:549]\n",
    "Y = df.iloc[:,0:1]"
   ]
  },
  {
   "cell_type": "markdown",
   "metadata": {},
   "source": [
    "## 2. Model Developement"
   ]
  },
  {
   "cell_type": "code",
   "execution_count": 41,
   "metadata": {},
   "outputs": [],
   "source": [
    "from sklearn.model_selection import train_test_split\n",
    "x_train, x_test, y_train, y_test = train_test_split (X, Y, test_size=0.3, random_state=0)"
   ]
  },
  {
   "cell_type": "markdown",
   "metadata": {},
   "source": [
    "#### Feature Selection\n",
    "We will utalize an OLS Backwards Elimination method"
   ]
  },
  {
   "cell_type": "code",
   "execution_count": 42,
   "metadata": {},
   "outputs": [
    {
     "name": "stderr",
     "output_type": "stream",
     "text": [
      "/opt/conda/envs/Python36/lib/python3.6/site-packages/numpy/core/fromnumeric.py:2223: FutureWarning: Method .ptp is deprecated and will be removed in a future version. Use numpy.ptp instead.\n",
      "  return ptp(axis=axis, out=out, **kwargs)\n",
      "/opt/conda/envs/Python36/lib/python3.6/site-packages/statsmodels/base/model.py:1100: RuntimeWarning: invalid value encountered in true_divide\n",
      "  return self.params / self.bse\n",
      "/opt/conda/envs/Python36/lib/python3.6/site-packages/scipy/stats/_distn_infrastructure.py:877: RuntimeWarning: invalid value encountered in greater\n",
      "  return (self.a < x) & (x < self.b)\n",
      "/opt/conda/envs/Python36/lib/python3.6/site-packages/scipy/stats/_distn_infrastructure.py:877: RuntimeWarning: invalid value encountered in less\n",
      "  return (self.a < x) & (x < self.b)\n",
      "/opt/conda/envs/Python36/lib/python3.6/site-packages/scipy/stats/_distn_infrastructure.py:1831: RuntimeWarning: invalid value encountered in less_equal\n",
      "  cond2 = cond0 & (x <= self.a)\n"
     ]
    },
    {
     "name": "stdout",
     "output_type": "stream",
     "text": [
      "Product features that have statistical significance on the outcome vairable: ['Active Sales Months', 'Quan_0', 'Quan_3', 'Quan_4', 'Quan_5', 'Quan_7', 'Quan_8', 'Quan_9', 'Quan_12', 'Cat_4', 'Cat_16', 'Quan_15', 'Cat_22', 'Cat_41', 'Cat_42', 'Cat_47', 'Cat_84', 'Quan_17', 'Quan_18', 'Cat_110', 'Cat_117', 'Cat_139', 'Cat_147', 'Cat_180', 'Cat_181', 'Cat_193', 'Cat_203', 'Cat_214', 'Cat_216', 'Cat_218', 'Cat_250', 'Cat_256', 'Cat_290', 'Cat_292', 'Cat_302', 'Cat_303', 'Cat_312', 'Cat_318', 'Cat_346', 'Cat_348', 'Cat_358', 'Cat_366', 'Cat_371', 'Cat_375', 'Cat_376', 'Cat_382', 'Quan_20', 'Cat_385', 'Cat_386', 'Cat_388', 'Cat_389', 'Cat_402', 'Cat_409', 'Cat_410', 'Cat_411', 'Cat_412', 'Cat_413', 'Cat_414', 'Cat_417', 'Cat_421', 'Cat_455', 'Cat_457', 'Quant_22', 'Cat_458', 'Cat_459', 'Cat_463', 'Cat_464', 'Cat_466', 'Cat_469', 'Cat_470', 'Cat_476', 'Cat_477', 'Cat_478', 'Cat_492', 'Cat_493', 'Cat_494', 'Cat_495', 'Cat_496', 'Cat_497', 'Cat_498', 'Cat_499', 'Cat_500', 'Quan_26', 'Cat_502', 'Cat_503', 'Cat_504', 'Quan_28', 'Quan_30', 'Cat_505', 'Cat_506', 'Cat_507', 'Cat_508', 'Cat_510', 'Cat_512']\n"
     ]
    }
   ],
   "source": [
    "import statsmodels.api as sm\n",
    "y = y_train\n",
    "cols = list(x_train.columns)\n",
    "pmax = 1\n",
    "while (len(cols)>0):\n",
    "    '''This automates the backwards elimination OLS method'''\n",
    "    p = []\n",
    "    X_1 = x_train[cols]\n",
    "    X_1 = sm.add_constant(X_1)\n",
    "    model = sm.OLS(y,X_1).fit()\n",
    "    p = pd.Series(model.pvalues.values[0:],index = cols)      \n",
    "    pmax = max(p)\n",
    "    feature_with_p_max = p.idxmax()\n",
    "    if(pmax>0.05):\n",
    "        cols.remove(feature_with_p_max)\n",
    "    else:\n",
    "        break\n",
    "selected_features_BE = cols\n",
    "print(\"Product features that have statistical significance on the outcome vairable: \" + str(selected_features_BE))"
   ]
  },
  {
   "cell_type": "code",
   "execution_count": 43,
   "metadata": {},
   "outputs": [],
   "source": [
    "x_train = x_train.filter(items=selected_features_BE, axis=1) #our significant independant vairables only"
   ]
  },
  {
   "cell_type": "markdown",
   "metadata": {},
   "source": [
    "Check for Multi-Coliniarity - An assumption of linear regression is for independant vairables to be uncorrelated from each other"
   ]
  },
  {
   "cell_type": "code",
   "execution_count": 44,
   "metadata": {},
   "outputs": [
    {
     "data": {
      "text/plain": [
       "Text(0.5, 1.0, 'Multi-Collinearity of Features')"
      ]
     },
     "execution_count": 44,
     "metadata": {},
     "output_type": "execute_result"
    },
    {
     "data": {
      "image/png": "[encoded data removed]",
      "text/plain": [
       "<Figure size 792x648 with 2 Axes>"
      ]
     },
     "metadata": {},
     "output_type": "display_data"
    }
   ],
   "source": [
    "import seaborn as sns\n",
    "sns.set(style=\"white\")\n",
    "# Create a covariance matrix\n",
    "corr = x_train.corr()\n",
    "# Creating a mask the size of our covariance matrix\n",
    "mask = np.zeros_like(corr, dtype=bool)\n",
    "mask[np.triu_indices_from(mask)] = True\n",
    "# Set up the matplotlib figure\n",
    "f, ax = plt.subplots(figsize=(11,9))\n",
    "# Generate a custom diverging colormap\n",
    "cmap = sns.diverging_palette(220,10,as_cmap=True)\n",
    "# Draw the heatmap with the mask and correct aspect ratio\n",
    "sns.heatmap(corr,mask=mask,cmap=cmap,vmax=1,center=0,square=True, \n",
    "            linewidth=.5, cbar_kws={'shrink': .5})\n",
    "ax.set_title('Multi-Collinearity of Features')"
   ]
  },
  {
   "cell_type": "code",
   "execution_count": 45,
   "metadata": {},
   "outputs": [
    {
     "name": "stderr",
     "output_type": "stream",
     "text": [
      "/opt/conda/envs/Python36/lib/python3.6/site-packages/statsmodels/stats/outliers_influence.py:181: RuntimeWarning: divide by zero encountered in double_scalars\n",
      "  vif = 1. / (1. - r_squared_i)\n",
      "/opt/conda/envs/Python36/lib/python3.6/site-packages/statsmodels/regression/linear_model.py:1543: RuntimeWarning: divide by zero encountered in double_scalars\n",
      "  return 1 - self.ssr/self.centered_tss\n",
      "/opt/conda/envs/Python36/lib/python3.6/site-packages/statsmodels/regression/linear_model.py:1543: RuntimeWarning: invalid value encountered in double_scalars\n",
      "  return 1 - self.ssr/self.centered_tss\n"
     ]
    }
   ],
   "source": [
    "from statsmodels.stats.outliers_influence import variance_inflation_factor\n",
    "[variance_inflation_factor(x_train.values, j) for j in range(x_train.shape[1])]\n",
    "\n",
    "def calculate_vif(x):\n",
    "    '''automate collinear feature elimination using VIF'''\n",
    "    thresh = 10.0\n",
    "    output = pd.DataFrame()\n",
    "    k = x.shape[1]\n",
    "    vif = [variance_inflation_factor(x.values, j) for j in range(x.shape[1])]\n",
    "    for i in range(1,k):\n",
    "        a = np.argmax(vif)\n",
    "        if vif[a] <= thresh :\n",
    "            break\n",
    "        if i == 1 :          \n",
    "            output = x.drop(x.columns[a], axis = 1)\n",
    "            vif = [variance_inflation_factor(output.values, j) for j in range(output.shape[1])]\n",
    "        elif i > 1 :\n",
    "            output = output.drop(output.columns[a],axis = 1)\n",
    "            vif = [variance_inflation_factor(output.values, j) for j in range(output.shape[1])]\n",
    "    return(output)\n",
    "\n",
    "selected_features = calculate_vif(x_train)"
   ]
  },
  {
   "cell_type": "code",
   "execution_count": 46,
   "metadata": {},
   "outputs": [],
   "source": [
    "x_train = selected_features\n",
    "x_test = x_test.filter(items=x_train.columns, axis=1)"
   ]
  },
  {
   "cell_type": "markdown",
   "metadata": {},
   "source": [
    "**Multi-linear Regression Model**"
   ]
  },
  {
   "cell_type": "code",
   "execution_count": 47,
   "metadata": {},
   "outputs": [
    {
     "data": {
      "text/plain": [
       "LinearRegression(copy_X=True, fit_intercept=True, n_jobs=None,\n",
       "         normalize=False)"
      ]
     },
     "execution_count": 47,
     "metadata": {},
     "output_type": "execute_result"
    }
   ],
   "source": [
    "from sklearn import linear_model\n",
    "regr = linear_model.LinearRegression()\n",
    "x = np.asanyarray(x_train)\n",
    "y = np.asanyarray(y_train)\n",
    "regr.fit (x, y)"
   ]
  },
  {
   "cell_type": "code",
   "execution_count": 48,
   "metadata": {},
   "outputs": [
    {
     "name": "stdout",
     "output_type": "stream",
     "text": [
      "Variance score: 0.67\n"
     ]
    }
   ],
   "source": [
    "y_pred = regr.predict(x_test)\n",
    "x = np.asanyarray(x_test)\n",
    "y_test_ = np.asanyarray(y_test)\n",
    "\n",
    "# Explained variance score: 1 is perfect prediction\n",
    "print('Variance score: %.2f' % regr.score(x, y_test_))"
   ]
  },
  {
   "cell_type": "markdown",
   "metadata": {},
   "source": [
    "#### Gradient Boosting Model"
   ]
  },
  {
   "cell_type": "code",
   "execution_count": 49,
   "metadata": {},
   "outputs": [
    {
     "name": "stderr",
     "output_type": "stream",
     "text": [
      "/opt/conda/envs/Python36/lib/python3.6/site-packages/sklearn/utils/validation.py:761: DataConversionWarning: A column-vector y was passed when a 1d array was expected. Please change the shape of y to (n_samples, ), for example using ravel().\n",
      "  y = column_or_1d(y, warn=True)\n"
     ]
    },
    {
     "name": "stdout",
     "output_type": "stream",
     "text": [
      "R2: 0.81\n"
     ]
    }
   ],
   "source": [
    "from sklearn.ensemble import GradientBoostingRegressor\n",
    "est = GradientBoostingRegressor(learning_rate=0.1)\n",
    "model = est.fit(x_train, y_train)\n",
    "y_hat = model.predict(x_test)\n",
    "\n",
    "# Explained variance score: 1 is perfect prediction\n",
    "from sklearn.metrics import r2_score, explained_variance_score\n",
    "r2_score = r2_score(y_test_, y_hat)\n",
    "print(\"R2: %.2f\" % r2_score)"
   ]
  },
  {
   "cell_type": "markdown",
   "metadata": {},
   "source": [
    "## 3. Results"
   ]
  },
  {
   "cell_type": "code",
   "execution_count": 50,
   "metadata": {},
   "outputs": [],
   "source": [
    "accuracy = [0.67, 0.81]\n",
    "model = ['Multiple-Linear Regression', 'GBM']"
   ]
  },
  {
   "cell_type": "code",
   "execution_count": 66,
   "metadata": {},
   "outputs": [
    {
     "data": {
      "text/plain": [
       "Text(0.5, 1.0, 'Model Accuracy')"
      ]
     },
     "execution_count": 66,
     "metadata": {},
     "output_type": "execute_result"
    },
    {
     "data": {
      "image/png": "[encoded data removed]",
      "text/plain": [
       "<Figure size 432x288 with 1 Axes>"
      ]
     },
     "metadata": {},
     "output_type": "display_data"
    }
   ],
   "source": [
    "import seaborn as sns\n",
    "sns.barplot(x=model, y=accuracy)\n",
    "sns.set_palette('deep')\n",
    "plt.ylabel('Accuracy (%)', size = 12)\n",
    "plt.xlabel('Model', size = 12)\n",
    "plt.xticks(size=12, rotation=45)\n",
    "plt.title('Model Accuracy', size=16)"
   ]
  },
  {
   "cell_type": "code",
   "execution_count": 61,
   "metadata": {},
   "outputs": [
    {
     "data": {
      "image/png": "[encoded data removed]",
      "text/plain": [
       "<Figure size 864x720 with 1 Axes>"
      ]
     },
     "metadata": {},
     "output_type": "display_data"
    }
   ],
   "source": [
    "import seaborn as sns\n",
    "from matplotlib import pyplot as plt\n",
    "\n",
    "def DistributionPlot(y, yhat):\n",
    "    width = 12\n",
    "    height = 10\n",
    "    plt.figure(figsize=(width, height))\n",
    "    ax1 = sns.distplot(y, hist=True, color=\"r\", label='Actual')\n",
    "    ax2 = sns.distplot(yhat, hist=True, color=\"b\", label='Predicted', ax=ax1)\n",
    "    plt.title('Predicted Sales vs Actual Sales for Multi-Linear Regression Model', size=14)\n",
    "    plt.legend()\n",
    "    plt.show()\n",
    "\n",
    "DistributionPlot(y_test_, y_pred)"
   ]
  },
  {
   "cell_type": "code",
   "execution_count": 62,
   "metadata": {},
   "outputs": [
    {
     "data": {
      "image/png": "[encoded data removed]",
      "text/plain": [
       "<Figure size 864x720 with 1 Axes>"
      ]
     },
     "metadata": {},
     "output_type": "display_data"
    }
   ],
   "source": [
    "import seaborn as sns\n",
    "from matplotlib import pyplot as plt\n",
    "\n",
    "def DistributionPlot(y, yhat):\n",
    "    width = 12\n",
    "    height = 10\n",
    "    plt.figure(figsize=(width, height))\n",
    "    ax1 = sns.distplot(y, hist=True, color=\"r\", label='Actual')\n",
    "    ax2 = sns.distplot(yhat, hist=True, color=\"b\", label='Predicted', ax=ax1)\n",
    "    plt.title('Predicted Sales vs Actual Sales for Gradient Boosting Model', size=14)\n",
    "    plt.legend()\n",
    "    plt.show()\n",
    "\n",
    "DistributionPlot(y_test_, y_hat)"
   ]
  }
 ],
 "metadata": {
  "file_extension": ".py",
  "kernelspec": {
   "display_name": "Python 3.6",
   "language": "python",
   "name": "python3"
  },
  "language_info": {
   "codemirror_mode": {
    "name": "ipython",
    "version": 3
   },
   "file_extension": ".py",
   "mimetype": "text/x-python",
   "name": "python",
   "nbconvert_exporter": "python",
   "pygments_lexer": "ipython3",
   "version": "3.6.9"
  },
  "mimetype": "text/x-python",
  "name": "python",
  "npconvert_exporter": "python",
  "pygments_lexer": "ipython3",
  "version": 3
 },
 "nbformat": 4,
 "nbformat_minor": 2
}
